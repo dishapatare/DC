{
  "nbformat": 4,
  "nbformat_minor": 0,
  "metadata": {
    "colab": {
      "provenance": []
    },
    "kernelspec": {
      "name": "python3",
      "display_name": "Python 3"
    },
    "language_info": {
      "name": "python"
    }
  },
  "cells": [
    {
      "cell_type": "markdown",
      "source": [
        "**Problem Statement :** Design a distributed application using RMI for remote computation where client submits two strings to the server and server returns the concatenation of the given strings."
      ],
      "metadata": {
        "id": "8sPdyr9ncA_i"
      }
    },
    {
      "cell_type": "code",
      "source": [
        "!pip install Pyro4"
      ],
      "metadata": {
        "colab": {
          "base_uri": "https://localhost:8080/"
        },
        "id": "elFIrpi6hllv",
        "outputId": "3ebda2c0-7f73-4db0-da66-d5e365621299"
      },
      "execution_count": 4,
      "outputs": [
        {
          "output_type": "stream",
          "name": "stdout",
          "text": [
            "Collecting Pyro4\n",
            "  Downloading Pyro4-4.82-py2.py3-none-any.whl.metadata (2.2 kB)\n",
            "Collecting serpent>=1.27 (from Pyro4)\n",
            "  Downloading serpent-1.41-py3-none-any.whl.metadata (5.8 kB)\n",
            "Downloading Pyro4-4.82-py2.py3-none-any.whl (89 kB)\n",
            "\u001b[?25l   \u001b[90m━━━━━━━━━━━━━━━━━━━━━━━━━━━━━━━━━━━━━━━━\u001b[0m \u001b[32m0.0/90.0 kB\u001b[0m \u001b[31m?\u001b[0m eta \u001b[36m-:--:--\u001b[0m\r\u001b[2K   \u001b[90m━━━━━━━━━━━━━━━━━━━━━━━━━━━━━━━━━━━━━━━━\u001b[0m \u001b[32m90.0/90.0 kB\u001b[0m \u001b[31m2.7 MB/s\u001b[0m eta \u001b[36m0:00:00\u001b[0m\n",
            "\u001b[?25hDownloading serpent-1.41-py3-none-any.whl (9.6 kB)\n",
            "Installing collected packages: serpent, Pyro4\n",
            "Successfully installed Pyro4-4.82 serpent-1.41\n"
          ]
        }
      ]
    },
    {
      "cell_type": "code",
      "execution_count": 6,
      "metadata": {
        "id": "_39XCUiZbhev",
        "colab": {
          "base_uri": "https://localhost:8080/"
        },
        "outputId": "0ab38eee-ce16-4967-a624-754847f62471"
      },
      "outputs": [
        {
          "output_type": "stream",
          "name": "stdout",
          "text": [
            "Server URI: PYRO:obj_6eff21f24b39480cad0b93f8fd767fd1@localhost:46277\n",
            "Server is ready. Waiting for requests...\n"
          ]
        }
      ],
      "source": [
        "import Pyro4\n",
        "\n",
        "\n",
        "class StringConcatenator:\n",
        "    @Pyro4.expose\n",
        "    def concatenate(self, str1, str2):\n",
        "        return str1 + str2\n",
        "\n",
        "\n",
        "def start_server():\n",
        "    concatenator = StringConcatenator()\n",
        "\n",
        "    daemon = Pyro4.Daemon()\n",
        "    uri = daemon.register(concatenator)\n",
        "\n",
        "    print(\"Server URI:\", uri)\n",
        "\n",
        "    print(\"Server is ready. Waiting for requests...\")\n",
        "    daemon.requestLoop()\n",
        "\n",
        "\n",
        "if __name__ == \"__main__\":\n",
        "    start_server()"
      ]
    },
    {
      "cell_type": "code",
      "source": [],
      "metadata": {
        "id": "Z_0f8268hiE2"
      },
      "execution_count": null,
      "outputs": []
    }
  ]
}