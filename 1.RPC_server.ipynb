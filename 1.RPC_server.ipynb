{
  "cells": [
    {
      "cell_type": "markdown",
      "metadata": {
        "id": "mINUp5W4a2Nk"
      },
      "source": [
        "**Problem Statement :** Design a distributed application using RPC for remote computation where client submits an integer value to the server and server calculates factorial and returns the result to the client program."
      ]
    },
    {
      "cell_type": "code",
      "execution_count": null,
      "metadata": {
        "colab": {
          "background_save": true,
          "base_uri": "https://localhost:8080/"
        },
        "id": "CNa3otiqawpj",
        "outputId": "e7dd2122-601b-4d3f-f39d-e71d83315552"
      },
      "outputs": [
        {
          "name": "stdout",
          "output_type": "stream",
          "text": [
            "Server listening on port 8000...\n"
          ]
        }
      ],
      "source": [
        "from xmlrpc.server import SimpleXMLRPCServer\n",
        "\n",
        "\n",
        "def compute_factorial(n):\n",
        "    if n == 0 or n == 1:\n",
        "        return 1\n",
        "    else:\n",
        "        return n * compute_factorial(n - 1)\n",
        "\n",
        "\n",
        "server = SimpleXMLRPCServer((\"localhost\", 8000))\n",
        "print(\"Server listening on port 8000...\")\n",
        "server.register_function(compute_factorial, \"compute_factorial\")\n",
        "server.serve_forever()"
      ]
    },
    {
      "cell_type": "code",
      "execution_count": null,
      "metadata": {
        "id": "W6iHORQEa0tu"
      },
      "outputs": [],
      "source": []
    }
  ],
  "metadata": {
    "colab": {
      "provenance": []
    },
    "kernelspec": {
      "display_name": "Python 3",
      "name": "python3"
    },
    "language_info": {
      "name": "python"
    }
  },
  "nbformat": 4,
  "nbformat_minor": 0
}