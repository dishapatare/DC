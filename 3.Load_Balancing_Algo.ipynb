{
  "nbformat": 4,
  "nbformat_minor": 0,
  "metadata": {
    "colab": {
      "provenance": []
    },
    "kernelspec": {
      "name": "python3",
      "display_name": "Python 3"
    },
    "language_info": {
      "name": "python"
    }
  },
  "cells": [
    {
      "cell_type": "code",
      "source": [
        "import random\n",
        "\n",
        "servers = [\"Server1\", \"Server2\", \"Server3\"]\n",
        "\n",
        "# Round Robin Load Balancer\n",
        "class RoundRobinLB:\n",
        "    def __init__(self, servers):\n",
        "        self.servers = servers\n",
        "        self.index = 0\n",
        "\n",
        "    def get_server(self):\n",
        "        server = self.servers[self.index]\n",
        "        self.index = (self.index + 1) % len(self.servers)\n",
        "        return server\n",
        "\n",
        "# Random Load Balancer\n",
        "class RandomLB:\n",
        "    def __init__(self, servers):\n",
        "        self.servers = servers\n",
        "\n",
        "    def get_server(self):\n",
        "        return random.choice(self.servers)\n",
        "\n",
        "def simulate(lb, count):\n",
        "    for i in range(1, count + 1):\n",
        "        server = lb.get_server()      # Gets a server from the load balancer\n",
        "        print(f\"Request {i} routed to {server}\")\n",
        "\n",
        "print(\"Round Robin Load Balancing:\")\n",
        "simulate(RoundRobinLB(servers), 10)\n",
        "\n",
        "print(\"\\nRandom Load Balancing:\")\n",
        "simulate(RandomLB(servers), 10)"
      ],
      "metadata": {
        "id": "9qWr0ru5cxNg",
        "colab": {
          "base_uri": "https://localhost:8080/"
        },
        "outputId": "b994176e-4355-40b2-9870-53d2c30baaa5"
      },
      "execution_count": 1,
      "outputs": [
        {
          "output_type": "stream",
          "name": "stdout",
          "text": [
            "Round Robin Load Balancing:\n",
            "Request 1 routed to Server1\n",
            "Request 2 routed to Server2\n",
            "Request 3 routed to Server3\n",
            "Request 4 routed to Server1\n",
            "Request 5 routed to Server2\n",
            "Request 6 routed to Server3\n",
            "Request 7 routed to Server1\n",
            "Request 8 routed to Server2\n",
            "Request 9 routed to Server3\n",
            "Request 10 routed to Server1\n",
            "\n",
            "Random Load Balancing:\n",
            "Request 1 routed to Server1\n",
            "Request 2 routed to Server2\n",
            "Request 3 routed to Server3\n",
            "Request 4 routed to Server1\n",
            "Request 5 routed to Server2\n",
            "Request 6 routed to Server1\n",
            "Request 7 routed to Server1\n",
            "Request 8 routed to Server2\n",
            "Request 9 routed to Server2\n",
            "Request 10 routed to Server3\n"
          ]
        }
      ]
    },
    {
      "cell_type": "code",
      "source": [],
      "metadata": {
        "id": "laLdD5zx1Jsj"
      },
      "execution_count": null,
      "outputs": []
    }
  ]
}