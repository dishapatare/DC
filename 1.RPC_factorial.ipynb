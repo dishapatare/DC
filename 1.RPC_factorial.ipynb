{
  "nbformat": 4,
  "nbformat_minor": 0,
  "metadata": {
    "colab": {
      "provenance": []
    },
    "kernelspec": {
      "name": "python3",
      "display_name": "Python 3"
    },
    "language_info": {
      "name": "python"
    }
  },
  "cells": [
    {
      "cell_type": "code",
      "source": [
        "#server code:\n",
        "from xmlrpc.server import SimpleXMLRPCServer\n",
        "\n",
        "\n",
        "def compute_factorial(n):\n",
        "    if n == 0 or n == 1:\n",
        "        return 1\n",
        "    else:\n",
        "        return n * compute_factorial(n - 1)\n",
        "\n",
        "\n",
        "server = SimpleXMLRPCServer((\"localhost\", 8000))\n",
        "print(\"Server listening on port 8000...\")\n",
        "server.register_function(compute_factorial, \"compute_factorial\")\n",
        "server.serve_forever()\n",
        "\n",
        "#client code:\n",
        "import xmlrpc.client\n",
        "\n",
        "server = xmlrpc.client.ServerProxy(\"http://localhost:8000\")\n",
        "\n",
        "number = int(input(\"Enter an integer to compute its factorial: \"))\n",
        "\n",
        "result = server.compute_factorial(number)\n",
        "\n",
        "print(f\"The factorial of {number} is {result}\")"
      ],
      "metadata": {
        "id": "EWHQ71USr5j3"
      },
      "execution_count": null,
      "outputs": []
    }
  ]
}