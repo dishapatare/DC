{
  "cells": [
    {
      "cell_type": "code",
      "execution_count": null,
      "id": "58fe7c9b",
      "metadata": {
        "colab": {
          "base_uri": "https://localhost:8080/"
        },
        "id": "58fe7c9b",
        "outputId": "90537451-2535-47dd-977d-7fad3018aa8e"
      },
      "outputs": [
        {
          "output_type": "stream",
          "name": "stdout",
          "text": [
            "Hottest Year: 2015 with avg max temperature 17.43°C\n",
            "Coolest Year: 2012 with avg min temperature 7.29°C\n"
          ]
        }
      ],
      "source": [
        "import csv\n",
        "from datetime import datetime\n",
        "from collections import defaultdict\n",
        "\n",
        "def map_function(filename):\n",
        "    mapped = []\n",
        "    with open(filename, \"r\") as f:\n",
        "        reader = csv.reader(f)\n",
        "        next(reader)\n",
        "        for row in reader:\n",
        "            try:\n",
        "                date = row[0]\n",
        "                max_temp = float(row[2])\n",
        "                min_temp = float(row[3])\n",
        "                year = datetime.strptime(date, \"%Y-%m-%d\").year\n",
        "                mapped.append((year,(max_temp, min_temp, 1)))\n",
        "            except:\n",
        "                continue\n",
        "    return mapped\n",
        "\n",
        "def shuffle(mapped_data):\n",
        "    shuffled = defaultdict(list)\n",
        "    for year, values in mapped_data:\n",
        "        shuffled[year].append(values)\n",
        "    return shuffled\n",
        "\n",
        "def reduce_function(shuffled_data):\n",
        "    hottest_year = None\n",
        "    coolest_year = None\n",
        "    max_avg_temp = float(\"-inf\")\n",
        "    min_avg_temp = float(\"inf\")\n",
        "\n",
        "    for year, values in shuffled_data.items():\n",
        "        count = sum(v[2] for v in values)\n",
        "        max_avg = sum(v[0] for v in values) / count\n",
        "        min_avg = sum(v[1] for v in values) / count\n",
        "\n",
        "        if max_avg > max_avg_temp:\n",
        "            max_avg_temp = max_avg\n",
        "            hottest_year = year\n",
        "\n",
        "        if min_avg < min_avg_temp:\n",
        "            min_avg_temp = min_avg\n",
        "            coolest_year = year\n",
        "\n",
        "    return hottest_year, max_avg_temp, coolest_year, min_avg_temp\n",
        "\n",
        "mapped = map_function(\"weather.csv\")\n",
        "shuffled = shuffle(mapped)\n",
        "hottest_year, max_avg_temp, coolest_year, min_avg_temp = reduce_function(shuffled)\n",
        "\n",
        "print(f\"Hottest Year: {hottest_year} with avg max temperature: {max_avg_temp:.2f}°C\")\n",
        "print(f\"Coolest Year: {coolest_year} with avg min temperature: {min_avg_temp:.2f}°C\")"
      ]
    },
    {
      "cell_type": "code",
      "source": [],
      "metadata": {
        "id": "ckOmSkFS1iPS"
      },
      "id": "ckOmSkFS1iPS",
      "execution_count": null,
      "outputs": []
    }
  ],
  "metadata": {
    "kernelspec": {
      "display_name": "base",
      "language": "python",
      "name": "python3"
    },
    "language_info": {
      "codemirror_mode": {
        "name": "ipython",
        "version": 3
      },
      "file_extension": ".py",
      "mimetype": "text/x-python",
      "name": "python",
      "nbconvert_exporter": "python",
      "pygments_lexer": "ipython3",
      "version": "3.11.5"
    },
    "colab": {
      "provenance": []
    }
  },
  "nbformat": 4,
  "nbformat_minor": 5
}