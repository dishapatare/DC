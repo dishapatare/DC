{
  "cells": [
    {
      "cell_type": "code",
      "execution_count": null,
      "metadata": {
        "id": "W6iHORQEa0tu"
      },
      "outputs": [],
      "source": [
        "#server code:\n",
        "import Pyro4\n",
        "\n",
        "@Pyro4.expose\n",
        "class StringConcatenator:\n",
        "    def concatenate(self, str1, str2):\n",
        "        return str1 + str2\n",
        "\n",
        "concatenator = StringConcatenator()\n",
        "\n",
        "daemon = Pyro4.Daemon()\n",
        "uri = daemon.register(concatenator)\n",
        "\n",
        "print(\"Server URI :\",uri)\n",
        "print(\"Server is ready...\")\n",
        "\n",
        "daemon.requestLoop()\n",
        "\n",
        "#client code:\n",
        "import Pyro4\n",
        "\n",
        "uri = input(\"Enter Server,s URI:\")\n",
        "concatenator = Pyro4.Proxy(uri)\n",
        "\n",
        "str1 = input(\"Enter First String:\")\n",
        "str2 = input(\"Enter Second String:\")\n",
        "\n",
        "print(\"Concatenated String:\",concatenator.concatenate(str1,str2))"
      ]
    }
  ],
  "metadata": {
    "colab": {
      "provenance": []
    },
    "kernelspec": {
      "display_name": "Python 3",
      "name": "python3"
    },
    "language_info": {
      "name": "python"
    }
  },
  "nbformat": 4,
  "nbformat_minor": 0
}