{
  "nbformat": 4,
  "nbformat_minor": 0,
  "metadata": {
    "colab": {
      "provenance": []
    },
    "kernelspec": {
      "name": "python3",
      "display_name": "Python 3"
    },
    "language_info": {
      "name": "python"
    }
  },
  "cells": [
    {
      "cell_type": "markdown",
      "source": [
        "**Problem Statement:**\n",
        "Write code to simulate requests coming from clients and distribute them among the servers using the load balancing algorithms"
      ],
      "metadata": {
        "id": "OseygRv4c0iW"
      }
    },
    {
      "cell_type": "code",
      "execution_count": null,
      "metadata": {
        "id": "XRXiLTs6cUGA"
      },
      "outputs": [],
      "source": [
        "import random\n",
        "\n",
        "# List of available servers\n",
        "servers = [\"Server1\", \"Server2\", \"Server3\"]"
      ]
    },
    {
      "cell_type": "markdown",
      "source": [
        "**Defining Random and Round Robin Load Balancer**"
      ],
      "metadata": {
        "id": "tGflSqifcjnn"
      }
    },
    {
      "cell_type": "code",
      "source": [
        "# Round Robin Load Balancer\n",
        "class RoundRobinLoadBalancer:\n",
        "    def __init__(self, servers):\n",
        "        self.servers = servers\n",
        "        self.current_index = 0\n",
        "\n",
        "    def get_server(self):\n",
        "        server = self.servers[self.current_index]\n",
        "        self.current_index = (self.current_index + 1) % len(self.servers)\n",
        "        return server\n",
        "\n",
        "# Random Load Balancer\n",
        "class RandomLoadBalancer:\n",
        "    def __init__(self, servers):\n",
        "        self.servers = servers\n",
        "\n",
        "    def get_server(self):\n",
        "        return random.choice(self.servers)"
      ],
      "metadata": {
        "id": "-chaOM6QcXXh"
      },
      "execution_count": null,
      "outputs": []
    },
    {
      "cell_type": "markdown",
      "source": [
        "**Simulating Client Requests**"
      ],
      "metadata": {
        "id": "JiY7Ze7NcnLw"
      }
    },
    {
      "cell_type": "code",
      "source": [
        "def simulate_requests(load_balancer, num_requests):\n",
        "    for i in range(1, num_requests + 1):\n",
        "        server = load_balancer.get_server()\n",
        "        print(f\"Request {i} routed to {server}\")"
      ],
      "metadata": {
        "id": "86rNeiy8ch5o"
      },
      "execution_count": null,
      "outputs": []
    },
    {
      "cell_type": "markdown",
      "source": [
        "**Output**"
      ],
      "metadata": {
        "id": "rLUGdEVFctye"
      }
    },
    {
      "cell_type": "code",
      "source": [
        "if __name__ == \"__main__\":\n",
        "    print(\"Round Robin Load Balancing:\")\n",
        "    round_robin_lb = RoundRobinLoadBalancer(servers)\n",
        "    simulate_requests(round_robin_lb, 10)\n",
        "\n",
        "    print(\"\\nRandom Load Balancing:\")\n",
        "    random_lb = RandomLoadBalancer(servers)\n",
        "    simulate_requests(random_lb, 10)"
      ],
      "metadata": {
        "colab": {
          "base_uri": "https://localhost:8080/"
        },
        "id": "p5u5bK9Hcr8-",
        "outputId": "1ae2b8d0-ce7d-47a1-90a5-afbf12c69007"
      },
      "execution_count": null,
      "outputs": [
        {
          "output_type": "stream",
          "name": "stdout",
          "text": [
            "Round Robin Load Balancing:\n",
            "Request 1 routed to Server1\n",
            "Request 2 routed to Server2\n",
            "Request 3 routed to Server3\n",
            "Request 4 routed to Server1\n",
            "Request 5 routed to Server2\n",
            "Request 6 routed to Server3\n",
            "Request 7 routed to Server1\n",
            "Request 8 routed to Server2\n",
            "Request 9 routed to Server3\n",
            "Request 10 routed to Server1\n",
            "\n",
            "Random Load Balancing:\n",
            "Request 1 routed to Server2\n",
            "Request 2 routed to Server3\n",
            "Request 3 routed to Server1\n",
            "Request 4 routed to Server3\n",
            "Request 5 routed to Server1\n",
            "Request 6 routed to Server1\n",
            "Request 7 routed to Server2\n",
            "Request 8 routed to Server2\n",
            "Request 9 routed to Server2\n",
            "Request 10 routed to Server1\n"
          ]
        }
      ]
    },
    {
      "cell_type": "code",
      "source": [],
      "metadata": {
        "id": "9qWr0ru5cxNg"
      },
      "execution_count": null,
      "outputs": []
    }
  ]
}