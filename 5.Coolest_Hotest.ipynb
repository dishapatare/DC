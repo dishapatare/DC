{
  "cells": [
    {
      "cell_type": "code",
      "execution_count": null,
      "id": "58fe7c9b",
      "metadata": {
        "id": "58fe7c9b",
        "outputId": "4e4cdc70-fe41-4d05-fa5c-7110d90ff57f"
      },
      "outputs": [
        {
          "name": "stdout",
          "output_type": "stream",
          "text": [
            "Hottest Year: 2015 with avg max temperature 17.43°C\n",
            "Coolest Year: 2012 with avg min temperature 7.29°C\n"
          ]
        }
      ],
      "source": [
        "import csv\n",
        "from datetime import datetime\n",
        "from collections import defaultdict\n",
        "\n",
        "# Simulate Map step\n",
        "year_data = defaultdict(lambda: {\"max_sum\": 0, \"min_sum\": 0, \"count\": 0})\n",
        "\n",
        "with open(\"weather.csv\", \"r\") as f:\n",
        "    reader = csv.reader(f)\n",
        "    next(reader)  # Skip header\n",
        "    for row in reader:\n",
        "        try:\n",
        "            date = row[0]\n",
        "            temp_max = float(row[2])\n",
        "            temp_min = float(row[3])\n",
        "            year = datetime.strptime(date, \"%Y-%m-%d\").year\n",
        "\n",
        "            year_data[year][\"max_sum\"] += temp_max\n",
        "            year_data[year][\"min_sum\"] += temp_min\n",
        "            year_data[year][\"count\"] += 1\n",
        "        except:\n",
        "            continue\n",
        "\n",
        "# Simulate Reduce step\n",
        "hottest_year = None\n",
        "coolest_year = None\n",
        "max_avg_temp = float(\"-inf\")\n",
        "min_avg_temp = float(\"inf\")\n",
        "\n",
        "for year, data in year_data.items():\n",
        "    avg_max = data[\"max_sum\"] / data[\"count\"]\n",
        "    avg_min = data[\"min_sum\"] / data[\"count\"]\n",
        "\n",
        "    if avg_max > max_avg_temp:\n",
        "        max_avg_temp = avg_max\n",
        "        hottest_year = year\n",
        "\n",
        "    if avg_min < min_avg_temp:\n",
        "        min_avg_temp = avg_min\n",
        "        coolest_year = year\n",
        "\n",
        "# Output\n",
        "print(f\"Hottest Year: {hottest_year} with avg max temperature {max_avg_temp:.2f}°C\")\n",
        "print(f\"Coolest Year: {coolest_year} with avg min temperature {min_avg_temp:.2f}°C\")\n"
      ]
    },
    {
      "cell_type": "code",
      "execution_count": null,
      "id": "c63b81f6",
      "metadata": {
        "id": "c63b81f6"
      },
      "outputs": [],
      "source": []
    }
  ],
  "metadata": {
    "kernelspec": {
      "display_name": "base",
      "language": "python",
      "name": "python3"
    },
    "language_info": {
      "codemirror_mode": {
        "name": "ipython",
        "version": 3
      },
      "file_extension": ".py",
      "mimetype": "text/x-python",
      "name": "python",
      "nbconvert_exporter": "python",
      "pygments_lexer": "ipython3",
      "version": "3.11.5"
    },
    "colab": {
      "provenance": []
    }
  },
  "nbformat": 4,
  "nbformat_minor": 5
}